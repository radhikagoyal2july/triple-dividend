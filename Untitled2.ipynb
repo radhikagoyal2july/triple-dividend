{
 "cells": [
  {
   "cell_type": "code",
   "execution_count": 3,
   "metadata": {
    "collapsed": false
   },
   "outputs": [
    {
     "ename": "ModuleNotFoundError",
     "evalue": "No module named 'fiona'",
     "output_type": "error",
     "traceback": [
      "\u001b[1;31m---------------------------------------------------------------------------\u001b[0m",
      "\u001b[1;31mModuleNotFoundError\u001b[0m                       Traceback (most recent call last)",
      "\u001b[1;32m<ipython-input-3-e192edeb6e82>\u001b[0m in \u001b[0;36m<module>\u001b[1;34m()\u001b[0m\n\u001b[0;32m      1\u001b[0m \u001b[1;31m# -*- coding: utf-8 -*-\u001b[0m\u001b[1;33m\u001b[0m\u001b[1;33m\u001b[0m\u001b[0m\n\u001b[0;32m      2\u001b[0m \u001b[1;32mimport\u001b[0m \u001b[0mos\u001b[0m\u001b[1;33m,\u001b[0m \u001b[0msys\u001b[0m\u001b[1;33m,\u001b[0m \u001b[0minspect\u001b[0m\u001b[1;33m,\u001b[0m \u001b[0mlogging\u001b[0m\u001b[1;33m\u001b[0m\u001b[0m\n\u001b[1;32m----> 3\u001b[1;33m \u001b[1;32mimport\u001b[0m \u001b[0mfiona\u001b[0m\u001b[1;33m\u001b[0m\u001b[0m\n\u001b[0m\u001b[0;32m      4\u001b[0m \u001b[1;32mimport\u001b[0m \u001b[0mrasterio\u001b[0m\u001b[1;33m\u001b[0m\u001b[0m\n\u001b[0;32m      5\u001b[0m \u001b[1;32mimport\u001b[0m \u001b[0mrasterstats\u001b[0m \u001b[1;32mas\u001b[0m \u001b[0mrs\u001b[0m\u001b[1;33m\u001b[0m\u001b[0m\n",
      "\u001b[1;31mModuleNotFoundError\u001b[0m: No module named 'fiona'"
     ]
    }
   ],
   "source": [
    "# -*- coding: utf-8 -*-\n",
    "import os, sys, inspect, logging\n",
    "import fiona\n",
    "import rasterio\n",
    "import rasterstats as rs\n",
    "import pandas as pd\n",
    "import geopandas as gpd\n",
    "import shapely.wkt\n",
    "import numpy as np\n",
    "\n",
    "verbose = 1\n",
    "path = r\"C:\\Users\\charl\\Documents\\Tanzania\\DAR ES SALAAM SHAPEFILE\\test\"\n",
    "RASTERS = [\"res_fluv_def_1in1000.tif\",\"res_fluv_undef_1in1000.tif\",\"res_pluv_1in1000.tif\"] #put names of your rasters\n",
    "#\"Dar_Shapefile.shp\"\n"
   ]
  },
  {
   "cell_type": "code",
   "execution_count": null,
   "metadata": {
    "collapsed": true
   },
   "outputs": [],
   "source": [
    "def main():\n",
    "    #Set all input paths\n",
    "    EA = os.path.join(path, \"test.shp\")\n",
    "    for curFile in RASTERS:\n",
    "        if not os.path.exists(curFile):\n",
    "            raise ValueError(\"No input found: %s\" % curFile)\n",
    "    crs = {'init': 'epsg:4210'}\n",
    "    gdf = gpd.read_file(EA) #Picked up all EAs as geopandas dataframe\n",
    "    df = pd.DataFrame(gdf)\n",
    "\n",
    "    #Function calls\n",
    "    def make_cmean(minval, maxval):\n",
    "        def _func(x, minval = minval, maxval = maxval):\n",
    "            x = x[x <= maxval]\n",
    "            x = x[x >= minval]\n",
    "            return (np.mean(x))\n",
    "        return _func\n",
    "\n",
    "    def make_cmax(minval, maxval):\n",
    "        def _func(x, minval = minval, maxval = maxval):\n",
    "            x = x[x <= maxval]\n",
    "            x = x[x >= minval]\n",
    "            return (np.max(x))\n",
    "        return _func\n",
    "\n",
    "    def SuperFunction(gdf, a, b, RASTER, rastpath, minval, maxval):\n",
    "        cmean = make_cmean(minval, maxval)\n",
    "        cmax = make_cmax(minval, maxval)\n",
    "        print \"rastpath = %s\" % rastpath\n",
    "        print \"Made funcs. beginning computations...\"\n",
    "        zs = rs.zonal_stats(gdf,rastpath,all_touched=True,stats=\"mean\",add_stats={\"cmean\":cmean,\"cmax\":cmax})\n",
    "        stat = pd.DataFrame(zs)\n",
    "        stat.columns = [b,a,'bs']\n",
    "        stat = stat.drop('bs', axis = 1)\n",
    "        return stat\n",
    "\n",
    "    for RASTER in RASTERS:\n",
    "        a = '%s_mean' % RASTER\n",
    "        b = '%s_max' % RASTER\n",
    "        rastpath = os.path.join(path, RASTER)\n",
    "        try:\n",
    "            zstat = SuperFunction(gdf, a, b, RASTER, rastpath, 0, 10) # change 0 and 10 for raster min:max\n",
    "        except:\n",
    "            print 'This raster is fucked'\n",
    "        df = df.merge(zstat, left_index=True, right_index=True)\n",
    "    df.to_csv(os.path.join(path,'Flood_EAs.csv'), index=False, encoding = 'utf-8')\n",
    "    df['geometry'] = df['geometry'].map(str)\n",
    "    gdf = gpd.GeoDataFrame(df, crs = crs, geometry = df['geometry'].map(shapely.wkt.loads))\n",
    "    print gdf.head(5)\n",
    "    #gdf.to_file(os.path.join(path, 'OUTPUT.shp'), driver = 'ESRI Shapefile')\n",
    "\n",
    "main()\n",
    "#Define Functions\n",
    "\n",
    "\"\"\"\n",
    "    #Calulcate Risk Score\n",
    "    b = []\n",
    "    for RASTER in Riskdf.index:\n",
    "        a = df['%s_mean' % RASTER] * Riskdf['WEIGHT'][RASTER]\n",
    "        for x in df.index:\n",
    "            if np.isnan(a.loc[x]):\n",
    "        a[np.isnan(a)] = 0\n",
    "        b.append(a)\n",
    "    df['RISK_SCORE'] = sum(b)\n",
    "    df['RISK_SCORE'] = ((df['RISK_SCORE'] - df['RISK_SCORE'].min()) / (df['RISK_SCORE'].max() - df['RISK_SCORE'].min()))\n",
    "\"\"\"\n"
   ]
  },
  {
   "cell_type": "code",
   "execution_count": null,
   "metadata": {
    "collapsed": true
   },
   "outputs": [],
   "source": []
  }
 ],
 "metadata": {
  "kernelspec": {
   "display_name": "Python 3",
   "language": "python",
   "name": "python3"
  },
  "language_info": {
   "codemirror_mode": {
    "name": "ipython",
    "version": 3
   },
   "file_extension": ".py",
   "mimetype": "text/x-python",
   "name": "python",
   "nbconvert_exporter": "python",
   "pygments_lexer": "ipython3",
   "version": "3.6.0"
  }
 },
 "nbformat": 4,
 "nbformat_minor": 2
}
